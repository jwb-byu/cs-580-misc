{
 "cells": [
  {
   "cell_type": "markdown",
   "id": "793e6a23",
   "metadata": {},
   "source": [
    "# Imports"
   ]
  },
  {
   "cell_type": "code",
   "execution_count": 1,
   "id": "ec367644",
   "metadata": {},
   "outputs": [],
   "source": [
    "import warnings\n",
    "\n",
    "import numpy as np\n",
    "import pandas as pd\n",
    "\n",
    "warnings.filterwarnings(\"ignore\")"
   ]
  },
  {
   "cell_type": "markdown",
   "id": "62cd0788",
   "metadata": {},
   "source": [
    "# HW 15"
   ]
  },
  {
   "cell_type": "code",
   "execution_count": 2,
   "id": "7282616d",
   "metadata": {},
   "outputs": [],
   "source": [
    "# Setup\n",
    "fpoints: np.ndarray = pd.read_csv(\"fpoints.txt\", delimiter=\" \", header=None).values.astype(np.float64)\n",
    "tpoints: np.ndarray = pd.read_csv(\"tpoints.txt\", delimiter=\" \", header=None).values.astype(np.float64)"
   ]
  },
  {
   "cell_type": "code",
   "execution_count": 3,
   "id": "0b70faf2",
   "metadata": {},
   "outputs": [
    {
     "data": {
      "text/html": [
       "<div>\n",
       "<style scoped>\n",
       "    .dataframe tbody tr th:only-of-type {\n",
       "        vertical-align: middle;\n",
       "    }\n",
       "\n",
       "    .dataframe tbody tr th {\n",
       "        vertical-align: top;\n",
       "    }\n",
       "\n",
       "    .dataframe thead th {\n",
       "        text-align: right;\n",
       "    }\n",
       "</style>\n",
       "<table border=\"1\" class=\"dataframe\">\n",
       "  <thead>\n",
       "    <tr style=\"text-align: right;\">\n",
       "      <th></th>\n",
       "      <th>0</th>\n",
       "      <th>1</th>\n",
       "    </tr>\n",
       "  </thead>\n",
       "  <tbody>\n",
       "    <tr>\n",
       "      <th>0</th>\n",
       "      <td>0.470809</td>\n",
       "      <td>0.882235</td>\n",
       "    </tr>\n",
       "    <tr>\n",
       "      <th>1</th>\n",
       "      <td>-0.591142</td>\n",
       "      <td>0.806567</td>\n",
       "    </tr>\n",
       "    <tr>\n",
       "      <th>2</th>\n",
       "      <td>-0.747023</td>\n",
       "      <td>0.664798</td>\n",
       "    </tr>\n",
       "  </tbody>\n",
       "</table>\n",
       "</div>"
      ],
      "text/plain": [
       "          0         1\n",
       "0  0.470809  0.882235\n",
       "1 -0.591142  0.806567\n",
       "2 -0.747023  0.664798"
      ]
     },
     "execution_count": 3,
     "metadata": {},
     "output_type": "execute_result"
    }
   ],
   "source": [
    "# A\n",
    " \n",
    "def design_mat(k: int, vec) -> np.ndarray:\n",
    "    \"\"\"\n",
    "    This function is adapted from HW 13\n",
    "    \"\"\"\n",
    "    n = vec.shape[0]\n",
    "    m = k\n",
    "    A: np.ndarray = np.zeros((n, m))\n",
    "\n",
    "    for i in range(n):\n",
    "        for j in range(m):\n",
    "            # if j == 0: # follow this to add a 1 on the beginning of the basis\n",
    "            #     A[i, j] = 1 \n",
    "            # elif j % 2 == 0:\n",
    "            if j % 2 == 0:\n",
    "                A[i, j] = np.cos(vec[i])\n",
    "            else:\n",
    "                A[i, j] = np.sin(vec[i])\n",
    "\n",
    "    return A\n",
    "\n",
    "# for example, the design matrix given our data and a monomial basis up to k=2 is:\n",
    "des_mat = design_mat(2, fpoints)\n",
    "pd.DataFrame(des_mat)"
   ]
  },
  {
   "cell_type": "code",
   "execution_count": 8,
   "id": "07f044b3",
   "metadata": {},
   "outputs": [
    {
     "data": {
      "text/plain": [
       "array([[25.72612627, 24.21362046, 26.15273741, ..., 24.97717993,\n",
       "        24.5535203 , 25.58794032],\n",
       "       [26.10422247, 24.65115705, 26.94795531, ..., 22.70257081,\n",
       "        23.20506444, 22.01162152],\n",
       "       [22.56534559, 24.91625009, 25.29334849, ..., 25.32114244,\n",
       "        24.4819679 , 24.52571974],\n",
       "       ...,\n",
       "       [26.32327042, 25.86397333, 23.53604287, ..., 27.70330078,\n",
       "        26.41354396, 26.71799777],\n",
       "       [26.30950416, 24.78316513, 24.96121638, ..., 26.4936942 ,\n",
       "        23.78839063, 24.92408603],\n",
       "       [22.29448337, 26.81503187, 23.60978515, ..., 20.66495622,\n",
       "        26.6691824 , 27.45005147]], shape=(100, 100))"
      ]
     },
     "execution_count": 8,
     "metadata": {},
     "output_type": "execute_result"
    }
   ],
   "source": [
    "# B\n",
    "\n",
    "# the parameters are theta_hat:\n",
    "theta_hat, sse, rank, s = np.linalg.lstsq(des_mat, tpoints)\n",
    "\n",
    "# dummy values\n",
    "dummy_size = 100\n",
    "new_fpoints = np.random.normal(loc=0, scale=2, size=(dummy_size, dummy_size, dummy_size))\n",
    "new_tpoints = np.random.normal(loc=0, scale=2, size=(dummy_size, dummy_size, dummy_size))\n",
    "new_t_hat = np.zeros(shape=(dummy_size, dummy_size, dummy_size))\n",
    "for i in range(dummy_size):\n",
    "    for j in range(dummy_size):\n",
    "        new_t_hat[i,j, :] = (design_mat(2, np.array(new_fpoints[i,j]))@theta_hat).T\n",
    "\n",
    "normed_err = np.linalg.norm((new_t_hat - new_tpoints), ord = 2, axis=2)\n",
    "\n",
    "normed_err\n",
    "\n",
    "\n"
   ]
  },
  {
   "cell_type": "code",
   "execution_count": null,
   "id": "a3ba964a",
   "metadata": {},
   "outputs": [],
   "source": []
  },
  {
   "cell_type": "code",
   "execution_count": null,
   "id": "c28a2d3a",
   "metadata": {},
   "outputs": [],
   "source": [
    "np.meshgrid(np.array([1,2,3]), np.array([1,2,3]))"
   ]
  },
  {
   "cell_type": "code",
   "execution_count": null,
   "id": "c9337e63",
   "metadata": {},
   "outputs": [],
   "source": []
  },
  {
   "cell_type": "code",
   "execution_count": null,
   "id": "71e59cc1",
   "metadata": {},
   "outputs": [],
   "source": [
    "## # TODO ChatGPT"
   ]
  },
  {
   "cell_type": "markdown",
   "id": "cf19caf2",
   "metadata": {},
   "source": [
    "# Acknowledgment\n",
    "Work in this repository and with associated assignments and projects may be adapted or copied from similar files used in my prior academic and industry work (e.g., using a LaTeX file or Dockerfile as a starting point). Those files and any other work in this repository may have been developed with the help of LLM's like ChatGPT. For example, to provide context, answer questions, refine writing, understand function call syntax, and assist with repetitive tasks. In these cases, deliverables and associated work reflect my best efforts to optimize my learning and demonstrate my capacity, while using available resources and LLM's to facilitate the process.\n"
   ]
  },
  {
   "cell_type": "markdown",
   "id": "7a9a2f68",
   "metadata": {},
   "source": [
    "[ChatGPT Conversation](https://chatgpt.com/share/68cddfcc-1f68-8003-915e-4b10fedd77c3)"
   ]
  }
 ],
 "metadata": {
  "kernelspec": {
   "display_name": ".venv",
   "language": "python",
   "name": "python3"
  },
  "language_info": {
   "codemirror_mode": {
    "name": "ipython",
    "version": 3
   },
   "file_extension": ".py",
   "mimetype": "text/x-python",
   "name": "python",
   "nbconvert_exporter": "python",
   "pygments_lexer": "ipython3",
   "version": "3.13.2"
  }
 },
 "nbformat": 4,
 "nbformat_minor": 5
}
