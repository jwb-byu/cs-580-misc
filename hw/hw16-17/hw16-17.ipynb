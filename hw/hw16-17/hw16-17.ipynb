{
 "cells": [
  {
   "cell_type": "markdown",
   "id": "67f42727",
   "metadata": {},
   "source": [
    "# HW 16-17"
   ]
  },
  {
   "cell_type": "markdown",
   "id": "793e6a23",
   "metadata": {},
   "source": [
    "# Imports"
   ]
  },
  {
   "cell_type": "code",
   "execution_count": null,
   "id": "ec367644",
   "metadata": {},
   "outputs": [],
   "source": [
    "import warnings\n",
    "\n",
    "import numpy as np\n",
    "import pandas as pd\n",
    "from matplotlib import pyplot as plt\n",
    "\n",
    "warnings.filterwarnings(\"ignore\")"
   ]
  },
  {
   "cell_type": "markdown",
   "id": "62cd0788",
   "metadata": {},
   "source": [
    "# HW 16"
   ]
  },
  {
   "cell_type": "code",
   "execution_count": null,
   "id": "dec5c702",
   "metadata": {},
   "outputs": [],
   "source": [
    "# Setup: copied from HW 13\n",
    "data: np.ndarray = pd.read_csv(\"uspopulation.txt\", delimiter=\" \").values.astype(np.float64)\n",
    "\n",
    "years = data[:,0]\n",
    "pops = data[:,1]"
   ]
  },
  {
   "cell_type": "code",
   "execution_count": null,
   "id": "ed063c94",
   "metadata": {},
   "outputs": [],
   "source": [
    "# A: τ =−1 at year 1900 and τ = 1 at year 2010\n",
    "tau = np.linspace(-1, 1, len(years))\n",
    "yr_ind = np.arange(len(years))\n",
    "\n",
    "# TODO: question: should my time be using tau or years or yr_ind?"
   ]
  },
  {
   "cell_type": "code",
   "execution_count": null,
   "id": "0fb0f88d",
   "metadata": {},
   "outputs": [],
   "source": [
    "# B \"\"\" copied from HW 13 \"\"\"\n",
    "\n",
    "# a design matrix is created as follows:\n",
    "def design_mat(k: int, vec) -> np.ndarray:\n",
    "    \"\"\" copied from HW 13 \"\"\"\n",
    "    n = vec.shape[0]\n",
    "    m = k\n",
    "    A: np.ndarray = np.zeros((n, m))\n",
    "\n",
    "    for i in range(n):\n",
    "        for j in range(m):\n",
    "            A[i, j] = (vec[i])**j ## type: ignore\n",
    "\n",
    "    return A\n",
    "\n",
    "# for example, the design matrix given our data and a monomial basis up to k=11 is:\n",
    "des_mat = design_mat(11, yr_ind)\n",
    "pd.DataFrame(des_mat)\n"
   ]
  },
  {
   "cell_type": "code",
   "execution_count": null,
   "id": "005ebf59",
   "metadata": {},
   "outputs": [],
   "source": [
    "# C: adapted from HW 13\n",
    "\n",
    "df = pd.DataFrame(\n",
    "     {\n",
    "          \"K\": [i+1 for i in range(11)],\n",
    "          \"sum of squared error\": [0 for i in range(11)],\n",
    "          \"predicted population in 2020\": [0 for i in range(11)],\n",
    "          \"condition number\": [0 for i in range(11)]\n",
    "      }\n",
    ")\n",
    "\n",
    "# Let's loop to solve\n",
    "for i, row in df.iterrows():\n",
    "     k = row[\"K\"]\n",
    "     A = design_mat(k, tau)\n",
    "     theta_hat, sse, rank, s = np.linalg.lstsq(A, pops)\n",
    "     df.loc[i, \"sum of squared error\"] = sse\n",
    "     df.loc[i, \"predicted population in 2020\"] = design_mat(k, np.array([12]))@theta_hat\n",
    "     df.loc[i, \"condition number\"] = s[0]/s[-1]\n",
    "     \n",
    "\n",
    "# Here are our results\n",
    "df\n",
    "\n",
    "## What do you notice?\n",
    "\n",
    "# TODO: Answer after question"
   ]
  },
  {
   "cell_type": "code",
   "execution_count": null,
   "id": "02d1c96e",
   "metadata": {},
   "outputs": [],
   "source": [
    "raise NotImplementedError(\"we still need to talk through 16\")"
   ]
  },
  {
   "cell_type": "markdown",
   "id": "5cd343f2",
   "metadata": {},
   "source": [
    "# HW 17"
   ]
  },
  {
   "cell_type": "code",
   "execution_count": null,
   "id": "f6437eeb",
   "metadata": {},
   "outputs": [],
   "source": [
    "# setup\n",
    "\n",
    "data: np.ndarray = pd.read_csv(\"bias-variance-trade.txt\", delimiter=\" \", header=None).values.astype(np.float64)\n",
    "x1 = data[:, 0]\n",
    "y1 = data[:, 0]\n",
    "x2 = data[:, 0]\n",
    "y2 = data[:, 0]"
   ]
  },
  {
   "cell_type": "code",
   "execution_count": null,
   "id": "7cfdf660",
   "metadata": {},
   "outputs": [],
   "source": [
    "# A\n",
    "\n",
    "# let's use the function and methods from HW 13 and 16 (copied/adapted from there)\n",
    "df = pd.DataFrame(\n",
    "    {\n",
    "        \"K\": [i+1 for i in range(11)],\n",
    "        \"sum of squared error\": [0 for i in range(11)],\n",
    "        \"condition number\": [0 for i in range(11)]\n",
    "    }\n",
    ")\n",
    "\n",
    "# Let's loop to solve\n",
    "for i, row in df.iterrows():\n",
    "    k = row[\"K\"]\n",
    "    A = design_mat(k, x1)\n",
    "    theta_hat, sse, rank, s = np.linalg.lstsq(A, y1)\n",
    "    df.loc[i, \"sum of squared error\"] = sse\n",
    "    df.loc[i, \"condition number\"] = s[0]/s[-1]\n",
    "\n",
    "df"
   ]
  },
  {
   "cell_type": "code",
   "execution_count": null,
   "id": "e26480dc",
   "metadata": {},
   "outputs": [],
   "source": [
    "# B\n",
    "\n",
    "# let's use the function and methods from HW 13 and 16 (copied/adapted from there)\n",
    "df = pd.DataFrame(\n",
    "    {\n",
    "        \"K\": [i+1 for i in range(11)],\n",
    "        \"sum of squared error\": [0 for i in range(11)],\n",
    "        \"condition number\": [0 for i in range(11)]\n",
    "    }\n",
    ")\n",
    "\n",
    "# Let's loop to solve\n",
    "for i, row in df.iterrows():\n",
    "    k = row[\"K\"]\n",
    "    A = design_mat(k, x2)\n",
    "    theta_hat, sse, rank, s = np.linalg.lstsq(A, y2)\n",
    "    df.loc[i, \"sum of squared error\"] = sse\n",
    "    df.loc[i, \"condition number\"] = s[0]/s[-1]\n",
    "\n",
    "df"
   ]
  },
  {
   "cell_type": "code",
   "execution_count": null,
   "id": "3a4c1a89",
   "metadata": {},
   "outputs": [],
   "source": [
    "# C\n",
    "\n",
    "plt.scatter(x1, y1, color = \"b\")\n",
    "plt.scatter(x2, y2, color = \"r\", marker=\"x\")\n",
    "\n",
    "# TODO: Question: how do we define best-fit here?"
   ]
  },
  {
   "cell_type": "markdown",
   "id": "cf19caf2",
   "metadata": {},
   "source": [
    "# Acknowledgment\n",
    "Work in this repository and with associated assignments and projects may be adapted or copied from similar files used in my prior academic and industry work (e.g., using a LaTeX file or Dockerfile as a starting point). Those files and any other work in this repository may have been developed with the help of LLM's like ChatGPT. For example, to provide context, answer questions, refine writing, understand function call syntax, and assist with repetitive tasks. In these cases, deliverables and associated work reflect my best efforts to optimize my learning and demonstrate my capacity, while using available resources and LLM's to facilitate the process.\n"
   ]
  },
  {
   "cell_type": "code",
   "execution_count": null,
   "id": "71e59cc1",
   "metadata": {},
   "outputs": [],
   "source": [
    "## # TODO ChatGPT\n",
    "raise NotImplementedError(\"we need chat\")"
   ]
  },
  {
   "cell_type": "markdown",
   "id": "7a9a2f68",
   "metadata": {},
   "source": [
    "[ChatGPT Conversation](https://chatgpt.com/share/68cddfcc-1f68-8003-915e-4b10fedd77c3)"
   ]
  }
 ],
 "metadata": {
  "kernelspec": {
   "display_name": ".venv",
   "language": "python",
   "name": "python3"
  },
  "language_info": {
   "codemirror_mode": {
    "name": "ipython",
    "version": 3
   },
   "file_extension": ".py",
   "mimetype": "text/x-python",
   "name": "python",
   "nbconvert_exporter": "python",
   "pygments_lexer": "ipython3",
   "version": "3.13.2"
  }
 },
 "nbformat": 4,
 "nbformat_minor": 5
}
