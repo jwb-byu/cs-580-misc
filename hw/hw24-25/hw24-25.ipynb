{
 "cells": [
  {
   "cell_type": "markdown",
   "id": "67f42727",
   "metadata": {},
   "source": [
    "# HW 24-25"
   ]
  },
  {
   "cell_type": "markdown",
   "id": "793e6a23",
   "metadata": {},
   "source": [
    "# Imports"
   ]
  },
  {
   "cell_type": "code",
   "execution_count": null,
   "id": "ec367644",
   "metadata": {},
   "outputs": [],
   "source": [
    "import warnings\n",
    "\n",
    "import numpy as np\n",
    "import pandas as pd\n",
    "# import PIL\n",
    "import scipy\n",
    "import sympy as sp\n",
    "# from matplotlib import pyplot as plt\n",
    "\n",
    "warnings.filterwarnings(\"ignore\")"
   ]
  },
  {
   "cell_type": "markdown",
   "id": "1ee658e8",
   "metadata": {},
   "source": [
    "# HW 24"
   ]
  },
  {
   "cell_type": "code",
   "execution_count": null,
   "id": "93430aa5",
   "metadata": {},
   "outputs": [],
   "source": [
    "# In this problem, you will practice using automatic differentiation to construct the Fisher Information\n",
    "# Matrix of a non-linear system and using said matrix to make informed decisions about sampling."
   ]
  },
  {
   "cell_type": "markdown",
   "id": "8933f97d",
   "metadata": {},
   "source": [
    "<img src=\"model_24.png\" alt=\"formula\" width=\"500\">"
   ]
  },
  {
   "cell_type": "code",
   "execution_count": null,
   "id": "fd464705",
   "metadata": {},
   "outputs": [],
   "source": [
    "# (a) Use automatic differentiation to create the Jacobian of this function. Note that your result\n",
    "# will be a programmatic object, not something that you can write out by hand"
   ]
  },
  {
   "cell_type": "code",
   "execution_count": null,
   "id": "62d5f12d",
   "metadata": {},
   "outputs": [],
   "source": [
    "# (b) The experiment that you want to test this model on has three possible sample points: 0, 0.5,\n",
    "# and 1, but due to cost, you can only choose to sample at two points. Explore the behavior of\n",
    "# your model by plotting the condition number of the Fisher Information Matrix as a function\n",
    "# of θ. Use the following procedure:\n",
    "# • Create three plots, one for each pair of possible sampling points: (0,0.5), (0.5, 1), and (0, 1)\n",
    "# • Sample θ1 from (-3, 3)\n",
    "# • Sample θ2 from (-1.5, 1.5) to avoid singularities\n",
    "# • Use a sparse grid to sample θi to keep computational time low (∼ 20 samples from each θi)\n",
    "# • Report the base-10 logarithm of the condition number"
   ]
  },
  {
   "cell_type": "code",
   "execution_count": null,
   "id": "65f444cf",
   "metadata": {},
   "outputs": [],
   "source": [
    "# (c) What does a low condition number tell you about your model? Which of your plots has the\n",
    "# greatest area with the lowest condition number? With that in mind, which set of sampling\n",
    "# points is best for this model and why?"
   ]
  },
  {
   "cell_type": "markdown",
   "id": "a4d4be66",
   "metadata": {},
   "source": [
    "# HW 25"
   ]
  },
  {
   "cell_type": "code",
   "execution_count": null,
   "id": "1a08d0f0",
   "metadata": {},
   "outputs": [],
   "source": [
    "# Imagine that you have been hired by a city to create a model for violent crime in their city.\n",
    "# The city has given you three potential sampling schemes in param-uncertainty-sampling.txt.\n",
    "# Given the model:"
   ]
  },
  {
   "cell_type": "markdown",
   "id": "7c7112f4",
   "metadata": {},
   "source": [
    "<img src=\"model_25.png\" alt=\"formula\" width=\"700\">"
   ]
  },
  {
   "cell_type": "code",
   "execution_count": null,
   "id": "40b62ee0",
   "metadata": {},
   "outputs": [],
   "source": [
    "# (a) Construct the system matrix A for each set of points"
   ]
  },
  {
   "cell_type": "code",
   "execution_count": null,
   "id": "c11c5f02",
   "metadata": {},
   "outputs": [],
   "source": [
    "# (b) Calculate the Fisher Information Matrix using the equation AT A for each set of points (Note\n",
    "# that we have not yet generated a fit, so we are setting σ−2 to 1 for simplicity’s sake)."
   ]
  },
  {
   "cell_type": "code",
   "execution_count": null,
   "id": "791bdfb6",
   "metadata": {},
   "outputs": [],
   "source": [
    "# (c) Invert the Fisher Information Matrix to yield the covariance matrix. Report the diagonal\n",
    "# values for each covariance matrix, which are the uncertainties associated with each θ value."
   ]
  },
  {
   "cell_type": "code",
   "execution_count": null,
   "id": "673a6974",
   "metadata": {},
   "outputs": [],
   "source": [
    "# (d) If the city wants to constrain θ4, which sampling scheme should they choose and why?"
   ]
  },
  {
   "cell_type": "code",
   "execution_count": null,
   "id": "375599f4",
   "metadata": {},
   "outputs": [],
   "source": [
    "# (e) In regression problems, σ2 is calculated by scaling the sum of the square errors by the\n",
    "# degrees of freedom (the number of data points minus the number of parameters in your\n",
    "# model). Under what circumstances would your answer to part d change after calculating σ2?"
   ]
  },
  {
   "cell_type": "markdown",
   "id": "78d82db5",
   "metadata": {},
   "source": [
    "# CHAT: TODO"
   ]
  },
  {
   "cell_type": "code",
   "execution_count": null,
   "id": "a62b11b1",
   "metadata": {},
   "outputs": [],
   "source": [
    "raise NotImplementedError(\"Need chat link\")"
   ]
  },
  {
   "cell_type": "markdown",
   "id": "cf19caf2",
   "metadata": {},
   "source": [
    "# Acknowledgment\n",
    "Work in this repository and with associated assignments and projects may be adapted or copied from similar files used in my prior academic and industry work (e.g., using a LaTeX file or Dockerfile as a starting point). Those files and any other work in this repository may have been developed with the help of LLM's like ChatGPT. For example, to provide context, answer questions, refine writing, understand function call syntax, and assist with repetitive tasks. In these cases, deliverables and associated work reflect my best efforts to optimize my learning and demonstrate my capacity, while using available resources and LLM's to facilitate the process.\n"
   ]
  },
  {
   "cell_type": "markdown",
   "id": "7a9a2f68",
   "metadata": {},
   "source": [
    "[ChatGPT Conversation](https://chatgpt.com)"
   ]
  }
 ],
 "metadata": {
  "kernelspec": {
   "display_name": ".venv",
   "language": "python",
   "name": "python3"
  },
  "language_info": {
   "codemirror_mode": {
    "name": "ipython",
    "version": 3
   },
   "file_extension": ".py",
   "mimetype": "text/x-python",
   "name": "python",
   "nbconvert_exporter": "python",
   "pygments_lexer": "ipython3",
   "version": "3.13.2"
  }
 },
 "nbformat": 4,
 "nbformat_minor": 5
}
