{
 "cells": [
  {
   "cell_type": "markdown",
   "id": "67f42727",
   "metadata": {},
   "source": [
    "# HW 24-25"
   ]
  },
  {
   "cell_type": "markdown",
   "id": "793e6a23",
   "metadata": {},
   "source": [
    "# Imports"
   ]
  },
  {
   "cell_type": "code",
   "execution_count": 1,
   "id": "ec367644",
   "metadata": {},
   "outputs": [],
   "source": [
    "import warnings\n",
    "\n",
    "import jax\n",
    "import jax.numpy as jnp\n",
    "import numpy as np\n",
    "import pandas as pd\n",
    "# import PIL\n",
    "# import scipy\n",
    "# import sympy as sp\n",
    "from matplotlib import pyplot as plt\n",
    "\n",
    "warnings.filterwarnings(\"ignore\")"
   ]
  },
  {
   "cell_type": "markdown",
   "id": "1ee658e8",
   "metadata": {},
   "source": [
    "# HW 24"
   ]
  },
  {
   "cell_type": "code",
   "execution_count": 2,
   "id": "93430aa5",
   "metadata": {},
   "outputs": [],
   "source": [
    "# In this problem, you will practice using automatic differentiation to construct the Fisher Information\n",
    "# Matrix of a non-linear system and using said matrix to make informed decisions about sampling."
   ]
  },
  {
   "cell_type": "markdown",
   "id": "8933f97d",
   "metadata": {},
   "source": [
    "<img src=\"model_24.png\" alt=\"formula\" width=\"500\">"
   ]
  },
  {
   "cell_type": "code",
   "execution_count": 3,
   "id": "fd464705",
   "metadata": {},
   "outputs": [],
   "source": [
    "# (a) Use automatic differentiation to create the Jacobian of this function. Note that your result\n",
    "# will be a programmatic object, not something that you can write out by hand\n",
    "\n",
    "def f_x(x, th):\n",
    "    \"\"\"\n",
    "    x: jnp.ndarray (2,)\n",
    "    th: jnp.ndarray (2,)\n",
    "    \"\"\"\n",
    "    output = jnp.array([\n",
    "        jnp.exp(-th[0]*x[0])*jnp.tan(th[1]*x[1]),\n",
    "        jnp.cosh(th[0]*x[0]*x[1])\n",
    "    ])\n",
    "    return output\n",
    "\n",
    "J = jax.jacrev(f_x, argnums=1)\n"
   ]
  },
  {
   "cell_type": "code",
   "execution_count": 4,
   "id": "62d5f12d",
   "metadata": {},
   "outputs": [
    {
     "data": {
      "text/plain": [
       "<matplotlib.colorbar.Colorbar at 0x118017b60>"
      ]
     },
     "execution_count": 4,
     "metadata": {},
     "output_type": "execute_result"
    },
    {
     "data": {
      "image/png": "[encoded data removed]",
      "text/plain": [
       "<Figure size 1500x500 with 4 Axes>"
      ]
     },
     "metadata": {},
     "output_type": "display_data"
    }
   ],
   "source": [
    "# (b) The experiment that you want to test this model on has three possible sample points: 0, 0.5,\n",
    "# and 1, but due to cost, you can only choose to sample at two points. Explore the behavior of\n",
    "# your model by plotting the condition number of the Fisher Information Matrix as a function\n",
    "# of θ. Use the following procedure:\n",
    "# • Create three plots, one for each pair of possible sampling points: (0,0.5), (0.5, 1), and (0, 1)\n",
    "# • Sample θ1 from (-3, 3)\n",
    "# • Sample θ2 from (-1.5, 1.5) to avoid singularities\n",
    "# • Use a sparse grid to sample θi to keep computational time low (∼ 20 samples from each θi)\n",
    "# • Report the base-10 logarithm of the condition number\n",
    "\n",
    "samples = jnp.array([[0, 0.5],[0.5, 1], [0, 1]])\n",
    "th_1 = jnp.linspace(-3, 3, 20)\n",
    "th_2 = jnp.linspace(-1.5, 1.5, 20)\n",
    "\n",
    "fig, ax = plt.subplots(1, 3, figsize=(15,5))\n",
    "for i, sample in enumerate(samples):\n",
    "    ax[i].set_title(sample)\n",
    "\n",
    "    m = jnp.zeros((3, 20, 20))\n",
    "\n",
    "    for j, t1 in enumerate(th_1):\n",
    "        for k, t2 in enumerate(th_2):\n",
    "            ja = J(sample, jnp.array([t1, t2]))\n",
    "            FIM = jnp.matmul(ja.T, ja)\n",
    "            s = jnp.linalg.svd(FIM, compute_uv=False)\n",
    "            s=s+1e-12 # from zulip\n",
    "            cn = s[0]/s[-1]\n",
    "            log_cn = jnp.log10(cn)\n",
    "            m = m.at[:, j, k].set(jnp.array([t1, t2, log_cn]))\n",
    "    \n",
    "    pcm = ax[i].pcolormesh(*m)\n",
    "\n",
    "fig.colorbar(pcm, ax=ax) # type: ignore"
   ]
  },
  {
   "cell_type": "code",
   "execution_count": 5,
   "id": "65f444cf",
   "metadata": {},
   "outputs": [],
   "source": [
    "# (c) What does a low condition number tell you about your model? Which of your plots has the\n",
    "# greatest area with the lowest condition number? With that in mind, which set of sampling\n",
    "# points is best for this model and why?\n",
    "\n",
    "# A low condition number suggests that information in our model is evenly distributed across parameters,\n",
    "# enabling more effective model fitting.\n",
    "# The (0, 1) plot has the greatest area with the lowest condition number, so I recommend that set of sampling\n",
    "# points because that some space will be easiest to traverse."
   ]
  },
  {
   "cell_type": "markdown",
   "id": "a4d4be66",
   "metadata": {},
   "source": [
    "# HW 25"
   ]
  },
  {
   "cell_type": "code",
   "execution_count": 6,
   "id": "1a08d0f0",
   "metadata": {},
   "outputs": [],
   "source": [
    "# Imagine that you have been hired by a city to create a model for violent crime in their city.\n",
    "# The city has given you three potential sampling schemes in param-uncertainty-sampling.txt.\n",
    "# Given the model:\n",
    "\n",
    "data = pd.read_csv(\"./param-uncertainty-sampling.txt\", delim_whitespace=True, header=None).values\n",
    "\n",
    "x = data[:, 0]\n",
    "y = data[:, 1]\n",
    "z = data[:, 2]"
   ]
  },
  {
   "cell_type": "markdown",
   "id": "7c7112f4",
   "metadata": {},
   "source": [
    "<img src=\"model_25.png\" alt=\"formula\" width=\"700\">"
   ]
  },
  {
   "cell_type": "code",
   "execution_count": 7,
   "id": "40b62ee0",
   "metadata": {},
   "outputs": [],
   "source": [
    "# (a) Construct the system matrix A for each set of points\n",
    "\n",
    "def design_mat(vec: np.ndarray) -> np.ndarray:\n",
    "    \"\"\" adapted from HW 19 \"\"\"\n",
    "    m = np.array([\n",
    "        np.sin(2*np.pi*(1/365)*vec),\n",
    "        np.sin(2*np.pi*(1/30)*vec),\n",
    "        np.sin(2*np.pi*(1/7)*vec),\n",
    "        vec,\n",
    "        np.ones(shape=vec.shape)\n",
    "    ]).T\n",
    "    return m\n",
    "\n",
    "A_x = design_mat(x)\n",
    "A_y = design_mat(y)\n",
    "A_z = design_mat(z)"
   ]
  },
  {
   "cell_type": "code",
   "execution_count": 8,
   "id": "c11c5f02",
   "metadata": {},
   "outputs": [],
   "source": [
    "# (b) Calculate the Fisher Information Matrix using the equation AT A for each set of points (Note\n",
    "# that we have not yet generated a fit, so we are setting σ−2 to 1 for simplicity’s sake).\n",
    "\n",
    "FIM_x = np.matmul(A_x.T, A_x)\n",
    "FIM_y = np.matmul(A_y.T, A_y)\n",
    "FIM_z = np.matmul(A_z.T, A_z)"
   ]
  },
  {
   "cell_type": "code",
   "execution_count": 9,
   "id": "791bdfb6",
   "metadata": {},
   "outputs": [],
   "source": [
    "# (c) Invert the Fisher Information Matrix to yield the covariance matrix. Report the diagonal\n",
    "# values for each covariance matrix, which are the uncertainties associated with each θ value."
   ]
  },
  {
   "cell_type": "code",
   "execution_count": 10,
   "id": "8a76bdcc",
   "metadata": {},
   "outputs": [
    {
     "data": {
      "text/html": [
       "<div>\n",
       "<style scoped>\n",
       "    .dataframe tbody tr th:only-of-type {\n",
       "        vertical-align: middle;\n",
       "    }\n",
       "\n",
       "    .dataframe tbody tr th {\n",
       "        vertical-align: top;\n",
       "    }\n",
       "\n",
       "    .dataframe thead th {\n",
       "        text-align: right;\n",
       "    }\n",
       "</style>\n",
       "<table border=\"1\" class=\"dataframe\">\n",
       "  <thead>\n",
       "    <tr style=\"text-align: right;\">\n",
       "      <th></th>\n",
       "      <th>0</th>\n",
       "      <th>1</th>\n",
       "      <th>2</th>\n",
       "      <th>3</th>\n",
       "      <th>4</th>\n",
       "    </tr>\n",
       "  </thead>\n",
       "  <tbody>\n",
       "    <tr>\n",
       "      <th>0</th>\n",
       "      <td>0.039593</td>\n",
       "      <td>-0.000276</td>\n",
       "      <td>-0.000714</td>\n",
       "      <td>4.917626e-05</td>\n",
       "      <td>-0.017949</td>\n",
       "    </tr>\n",
       "    <tr>\n",
       "      <th>1</th>\n",
       "      <td>-0.000276</td>\n",
       "      <td>0.033906</td>\n",
       "      <td>-0.000719</td>\n",
       "      <td>-1.916879e-06</td>\n",
       "      <td>0.000333</td>\n",
       "    </tr>\n",
       "    <tr>\n",
       "      <th>2</th>\n",
       "      <td>-0.000714</td>\n",
       "      <td>-0.000719</td>\n",
       "      <td>0.033451</td>\n",
       "      <td>-5.016914e-06</td>\n",
       "      <td>0.001948</td>\n",
       "    </tr>\n",
       "    <tr>\n",
       "      <th>3</th>\n",
       "      <td>0.000049</td>\n",
       "      <td>-0.000002</td>\n",
       "      <td>-0.000005</td>\n",
       "      <td>4.246699e-07</td>\n",
       "      <td>-0.000155</td>\n",
       "    </tr>\n",
       "    <tr>\n",
       "      <th>4</th>\n",
       "      <td>-0.017949</td>\n",
       "      <td>0.000333</td>\n",
       "      <td>0.001948</td>\n",
       "      <td>-1.550002e-04</td>\n",
       "      <td>0.073245</td>\n",
       "    </tr>\n",
       "  </tbody>\n",
       "</table>\n",
       "</div>"
      ],
      "text/plain": [
       "          0         1         2             3         4\n",
       "0  0.039593 -0.000276 -0.000714  4.917626e-05 -0.017949\n",
       "1 -0.000276  0.033906 -0.000719 -1.916879e-06  0.000333\n",
       "2 -0.000714 -0.000719  0.033451 -5.016914e-06  0.001948\n",
       "3  0.000049 -0.000002 -0.000005  4.246699e-07 -0.000155\n",
       "4 -0.017949  0.000333  0.001948 -1.550002e-04  0.073245"
      ]
     },
     "execution_count": 10,
     "metadata": {},
     "output_type": "execute_result"
    }
   ],
   "source": [
    "# (c): X: the matrix, including diagonal values are reported here\n",
    "pd.DataFrame(np.linalg.inv(FIM_x))"
   ]
  },
  {
   "cell_type": "code",
   "execution_count": 11,
   "id": "fd9a0889",
   "metadata": {},
   "outputs": [
    {
     "data": {
      "text/html": [
       "<div>\n",
       "<style scoped>\n",
       "    .dataframe tbody tr th:only-of-type {\n",
       "        vertical-align: middle;\n",
       "    }\n",
       "\n",
       "    .dataframe tbody tr th {\n",
       "        vertical-align: top;\n",
       "    }\n",
       "\n",
       "    .dataframe thead th {\n",
       "        text-align: right;\n",
       "    }\n",
       "</style>\n",
       "<table border=\"1\" class=\"dataframe\">\n",
       "  <thead>\n",
       "    <tr style=\"text-align: right;\">\n",
       "      <th></th>\n",
       "      <th>0</th>\n",
       "      <th>1</th>\n",
       "      <th>2</th>\n",
       "      <th>3</th>\n",
       "      <th>4</th>\n",
       "    </tr>\n",
       "  </thead>\n",
       "  <tbody>\n",
       "    <tr>\n",
       "      <th>0</th>\n",
       "      <td>0.068057</td>\n",
       "      <td>-0.006057</td>\n",
       "      <td>-0.001761</td>\n",
       "      <td>1.061245e-04</td>\n",
       "      <td>-0.046209</td>\n",
       "    </tr>\n",
       "    <tr>\n",
       "      <th>1</th>\n",
       "      <td>-0.006057</td>\n",
       "      <td>0.033707</td>\n",
       "      <td>-0.001054</td>\n",
       "      <td>-1.291165e-05</td>\n",
       "      <td>0.002518</td>\n",
       "    </tr>\n",
       "    <tr>\n",
       "      <th>2</th>\n",
       "      <td>-0.001761</td>\n",
       "      <td>-0.001054</td>\n",
       "      <td>0.033121</td>\n",
       "      <td>-3.875079e-06</td>\n",
       "      <td>0.000514</td>\n",
       "    </tr>\n",
       "    <tr>\n",
       "      <th>3</th>\n",
       "      <td>0.000106</td>\n",
       "      <td>-0.000013</td>\n",
       "      <td>-0.000004</td>\n",
       "      <td>5.592078e-07</td>\n",
       "      <td>-0.000139</td>\n",
       "    </tr>\n",
       "    <tr>\n",
       "      <th>4</th>\n",
       "      <td>-0.046209</td>\n",
       "      <td>0.002518</td>\n",
       "      <td>0.000514</td>\n",
       "      <td>-1.393791e-04</td>\n",
       "      <td>0.059725</td>\n",
       "    </tr>\n",
       "  </tbody>\n",
       "</table>\n",
       "</div>"
      ],
      "text/plain": [
       "          0         1         2             3         4\n",
       "0  0.068057 -0.006057 -0.001761  1.061245e-04 -0.046209\n",
       "1 -0.006057  0.033707 -0.001054 -1.291165e-05  0.002518\n",
       "2 -0.001761 -0.001054  0.033121 -3.875079e-06  0.000514\n",
       "3  0.000106 -0.000013 -0.000004  5.592078e-07 -0.000139\n",
       "4 -0.046209  0.002518  0.000514 -1.393791e-04  0.059725"
      ]
     },
     "execution_count": 11,
     "metadata": {},
     "output_type": "execute_result"
    }
   ],
   "source": [
    "# (c): Y: the matrix, including diagonal values are reported here\n",
    "pd.DataFrame(np.linalg.inv(FIM_y))"
   ]
  },
  {
   "cell_type": "code",
   "execution_count": 12,
   "id": "051562d8",
   "metadata": {},
   "outputs": [
    {
     "data": {
      "text/html": [
       "<div>\n",
       "<style scoped>\n",
       "    .dataframe tbody tr th:only-of-type {\n",
       "        vertical-align: middle;\n",
       "    }\n",
       "\n",
       "    .dataframe tbody tr th {\n",
       "        vertical-align: top;\n",
       "    }\n",
       "\n",
       "    .dataframe thead th {\n",
       "        text-align: right;\n",
       "    }\n",
       "</style>\n",
       "<table border=\"1\" class=\"dataframe\">\n",
       "  <thead>\n",
       "    <tr style=\"text-align: right;\">\n",
       "      <th></th>\n",
       "      <th>0</th>\n",
       "      <th>1</th>\n",
       "      <th>2</th>\n",
       "      <th>3</th>\n",
       "      <th>4</th>\n",
       "    </tr>\n",
       "  </thead>\n",
       "  <tbody>\n",
       "    <tr>\n",
       "      <th>0</th>\n",
       "      <td>0.087249</td>\n",
       "      <td>-0.007362</td>\n",
       "      <td>-0.009974</td>\n",
       "      <td>0.000431</td>\n",
       "      <td>-0.075247</td>\n",
       "    </tr>\n",
       "    <tr>\n",
       "      <th>1</th>\n",
       "      <td>-0.007362</td>\n",
       "      <td>0.040865</td>\n",
       "      <td>0.002117</td>\n",
       "      <td>0.000001</td>\n",
       "      <td>-0.002343</td>\n",
       "    </tr>\n",
       "    <tr>\n",
       "      <th>2</th>\n",
       "      <td>-0.009974</td>\n",
       "      <td>0.002117</td>\n",
       "      <td>0.034702</td>\n",
       "      <td>-0.000061</td>\n",
       "      <td>0.009003</td>\n",
       "    </tr>\n",
       "    <tr>\n",
       "      <th>3</th>\n",
       "      <td>0.000431</td>\n",
       "      <td>0.000001</td>\n",
       "      <td>-0.000061</td>\n",
       "      <td>0.000004</td>\n",
       "      <td>-0.000649</td>\n",
       "    </tr>\n",
       "    <tr>\n",
       "      <th>4</th>\n",
       "      <td>-0.075247</td>\n",
       "      <td>-0.002343</td>\n",
       "      <td>0.009003</td>\n",
       "      <td>-0.000649</td>\n",
       "      <td>0.131805</td>\n",
       "    </tr>\n",
       "  </tbody>\n",
       "</table>\n",
       "</div>"
      ],
      "text/plain": [
       "          0         1         2         3         4\n",
       "0  0.087249 -0.007362 -0.009974  0.000431 -0.075247\n",
       "1 -0.007362  0.040865  0.002117  0.000001 -0.002343\n",
       "2 -0.009974  0.002117  0.034702 -0.000061  0.009003\n",
       "3  0.000431  0.000001 -0.000061  0.000004 -0.000649\n",
       "4 -0.075247 -0.002343  0.009003 -0.000649  0.131805"
      ]
     },
     "execution_count": 12,
     "metadata": {},
     "output_type": "execute_result"
    }
   ],
   "source": [
    "# (c): Z: the matrix, including diagonal values are reported here\n",
    "pd.DataFrame(np.linalg.inv(FIM_z))"
   ]
  },
  {
   "cell_type": "code",
   "execution_count": 13,
   "id": "673a6974",
   "metadata": {},
   "outputs": [],
   "source": [
    "# (d) If the city wants to constrain θ4, which sampling scheme should they choose and why?\n",
    "\n",
    "# The variance associated with θ4 is least for the first sampling scheme, which corresponds to my x-vector.\n",
    "# Because of that, to minimize uncertainty with respect to to θ4, I recommend using that dataset."
   ]
  },
  {
   "cell_type": "code",
   "execution_count": 14,
   "id": "375599f4",
   "metadata": {},
   "outputs": [],
   "source": [
    "# (e) In regression problems, σ2 is calculated by scaling the sum of the square errors by the\n",
    "# degrees of freedom (the number of data points minus the number of parameters in your\n",
    "# model). Under what circumstances would your answer to part d change after calculating σ2?\n",
    "\n",
    "# Depending on the fit of the model to the data, the SSE will vary. If a model gives a significantly\n",
    "# improved fit (measured by SSE), then the uncertainty around the parameters will likely be much lower,\n",
    "# making that model preferable."
   ]
  },
  {
   "cell_type": "markdown",
   "id": "cf19caf2",
   "metadata": {},
   "source": [
    "# Acknowledgment\n",
    "Work in this repository and with associated assignments and projects may be adapted or copied from similar files used in my prior academic and industry work (e.g., using a LaTeX file or Dockerfile as a starting point). Those files and any other work in this repository may have been developed with the help of LLM's like ChatGPT. For example, to provide context, answer questions, refine writing, understand function call syntax, and assist with repetitive tasks. In these cases, deliverables and associated work reflect my best efforts to optimize my learning and demonstrate my capacity, while using available resources and LLM's to facilitate the process.\n"
   ]
  },
  {
   "cell_type": "markdown",
   "id": "7a9a2f68",
   "metadata": {},
   "source": [
    "[ChatGPT Conversation](https://chatgpt.com/share/68e99ef4-14ac-8003-8c66-e97164c94362)"
   ]
  }
 ],
 "metadata": {
  "kernelspec": {
   "display_name": ".venv",
   "language": "python",
   "name": "python3"
  },
  "language_info": {
   "codemirror_mode": {
    "name": "ipython",
    "version": 3
   },
   "file_extension": ".py",
   "mimetype": "text/x-python",
   "name": "python",
   "nbconvert_exporter": "python",
   "pygments_lexer": "ipython3",
   "version": "3.13.2"
  }
 },
 "nbformat": 4,
 "nbformat_minor": 5
}
