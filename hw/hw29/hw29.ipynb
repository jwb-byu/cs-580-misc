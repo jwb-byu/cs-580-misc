{
 "cells": [
  {
   "cell_type": "markdown",
   "id": "67f42727",
   "metadata": {},
   "source": [
    "# HW 29"
   ]
  },
  {
   "cell_type": "code",
   "execution_count": null,
   "id": "ec367644",
   "metadata": {},
   "outputs": [],
   "source": [
    "# import jax\n",
    "# import jax.numpy as jnp\n",
    "import numpy as np\n",
    "import pandas as pd\n",
    "# import PIL\n",
    "# import scipy\n",
    "# import sympy as sp\n",
    "from matplotlib import pyplot as plt"
   ]
  },
  {
   "cell_type": "markdown",
   "id": "669daca5",
   "metadata": {},
   "source": [
    "<img src=\"fig_29_intro.png\" alt=\"formula\" width=\"900\">"
   ]
  },
  {
   "cell_type": "code",
   "execution_count": null,
   "id": "219ef087",
   "metadata": {},
   "outputs": [],
   "source": [
    "data: pd.DataFrame = pd.read_csv(\"aer.txt\", delimiter=r'\\s+', header=None).values # type: ignore\n",
    "t: np.ndarray = data[:, 0] # type: ignore\n",
    "x: np.ndarray = data[:, 1] # type: ignore\n",
    "\n",
    "plt.scatter(t, x)"
   ]
  },
  {
   "cell_type": "code",
   "execution_count": null,
   "id": "c3322589",
   "metadata": {},
   "outputs": [],
   "source": [
    "def f(theta: np.ndarray, u: np.float64):\n",
    "    assert isinstance(theta, np.ndarray) and len(theta.shape)==1 and theta.shape==4\n",
    "    assert isinstance(u, [np.float64, np.float32])\n",
    "    th1, th2, th3, th4 = theta\n",
    "    numerator = th1*(u**2+th2*u)\n",
    "    denominator = u**2+th3*u+th4\n",
    "    return numerator/denominator\n",
    "\n",
    "def f_vec(theta: np.ndarray, u: np.ndarray):\n",
    "    return np.array([f(theta, v) for v in u])\n",
    "\n",
    "# NOTE: theta_log = np.array([np.log(th) for th in theta])"
   ]
  },
  {
   "cell_type": "code",
   "execution_count": null,
   "id": "d01c25fa",
   "metadata": {},
   "outputs": [],
   "source": [
    "# a. Which parameters could go to zero without resulting in a trivial model? Rewrite the model\n",
    "# for each of these cases.\n",
    "\n",
    "# theta1*theta2 is identifiable but theta1/theta2 is unidentifiable: theta2 is similarly unidentifiable\n",
    "\n",
    "raise NotImplementedError(\"TODO\")"
   ]
  },
  {
   "cell_type": "code",
   "execution_count": null,
   "id": "86914a5b",
   "metadata": {},
   "outputs": [],
   "source": [
    "# b. Consider what happens when ϕ2 is much larger than ϕ1. What would the numerator simplify\n",
    "# to? Rewrite the model with this simplifying assumption.\n",
    "\n",
    "# when ϕ2 is much larger than ϕ1:\n",
    "def f(theta, u):\n",
    "    th1, th2, th3, th4 = theta\n",
    "    numerator = th2*u\n",
    "    denominator = u**2+th3*u+th4\n",
    "    return numerator/denominator"
   ]
  },
  {
   "cell_type": "code",
   "execution_count": null,
   "id": "d4324275",
   "metadata": {},
   "outputs": [],
   "source": [
    "# c. Repeat part b for ϕ3 and ϕ4. Why did we ignore ϕ1?\n",
    "\n",
    "# when ϕ3 is much larger than ϕ1:\n",
    "def f(theta, u):\n",
    "    th1, th2, th3, th4 = theta\n",
    "    numerator = th1*(u**2+th2*u)\n",
    "    denominator = u**2+th3*u+th4\n",
    "    return numerator/denominator"
   ]
  },
  {
   "cell_type": "code",
   "execution_count": null,
   "id": "9df26b0f",
   "metadata": {},
   "outputs": [],
   "source": [
    "# d. For the full model, construct a cost surface running from−10 ≤ log(θi) ≤ 10. Produce six\n",
    "# plots which slow slices of the cost surface with respect to pairs of the model parameters."
   ]
  },
  {
   "cell_type": "code",
   "execution_count": null,
   "id": "3eab6131",
   "metadata": {},
   "outputs": [],
   "source": [
    "# e. Identify regions on your cost surface plots which correspond to your simplified models"
   ]
  },
  {
   "cell_type": "code",
   "execution_count": null,
   "id": "6c2cc7b2",
   "metadata": {},
   "outputs": [],
   "source": [
    "# f. Fit the full model to data.(Hint: At the best fit, I find that ϕ1 ≈ 0.2.)"
   ]
  },
  {
   "cell_type": "code",
   "execution_count": null,
   "id": "a67e7425",
   "metadata": {},
   "outputs": [],
   "source": [
    "# g. Repeat Part f for each of your simplified models."
   ]
  },
  {
   "cell_type": "code",
   "execution_count": null,
   "id": "e2f11f2a",
   "metadata": {},
   "outputs": [],
   "source": [
    "# h. Plot all of your models on the same set of axes with the data. What does this plot tell you\n",
    "# about the identifiability of this model+parameter combination?"
   ]
  },
  {
   "cell_type": "markdown",
   "id": "78d82db5",
   "metadata": {},
   "source": [
    "# CHAT: TODO"
   ]
  },
  {
   "cell_type": "code",
   "execution_count": null,
   "id": "a62b11b1",
   "metadata": {},
   "outputs": [],
   "source": [
    "raise NotImplementedError(\"Need chat link\")"
   ]
  },
  {
   "cell_type": "markdown",
   "id": "cf19caf2",
   "metadata": {},
   "source": [
    "# Acknowledgment\n",
    "Work in this repository and with associated assignments and projects may be adapted or copied from similar files used in my prior academic and industry work (e.g., using a LaTeX file or Dockerfile as a starting point). Those files and any other work in this repository may have been developed with the help of LLM's like ChatGPT. For example, to provide context, answer questions, refine writing, understand function call syntax, and assist with repetitive tasks. In these cases, deliverables and associated work reflect my best efforts to optimize my learning and demonstrate my capacity, while using available resources and LLM's to facilitate the process.\n"
   ]
  },
  {
   "cell_type": "markdown",
   "id": "7a9a2f68",
   "metadata": {},
   "source": [
    "[ChatGPT Conversation](https://chatgpt.com)"
   ]
  }
 ],
 "metadata": {
  "kernelspec": {
   "display_name": ".venv",
   "language": "python",
   "name": "python3"
  },
  "language_info": {
   "codemirror_mode": {
    "name": "ipython",
    "version": 3
   },
   "file_extension": ".py",
   "mimetype": "text/x-python",
   "name": "python",
   "nbconvert_exporter": "python",
   "pygments_lexer": "ipython3",
   "version": "3.13.2"
  }
 },
 "nbformat": 4,
 "nbformat_minor": 5
}
