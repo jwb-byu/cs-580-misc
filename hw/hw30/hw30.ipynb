{
 "cells": [
  {
   "cell_type": "markdown",
   "id": "67f42727",
   "metadata": {},
   "source": [
    "# HW 30"
   ]
  },
  {
   "cell_type": "code",
   "execution_count": 1,
   "id": "ec367644",
   "metadata": {},
   "outputs": [],
   "source": [
    "# import jax\n",
    "# import jax.numpy as jnp\n",
    "import numpy as np\n",
    "import pandas as pd\n",
    "# import PIL\n",
    "# import scipy\n",
    "import sympy as sp\n",
    "from matplotlib import pyplot as plt\n",
    "from scipy.optimize import minimize"
   ]
  },
  {
   "cell_type": "markdown",
   "id": "33d435a7",
   "metadata": {},
   "source": [
    "<img src=\"fig_30_intro.png\" alt=\"formula\" width=\"900\">"
   ]
  },
  {
   "cell_type": "code",
   "execution_count": 2,
   "id": "1c26cb16",
   "metadata": {},
   "outputs": [],
   "source": [
    "def f(a, xk, b, uk):\n",
    "    return a*xk+b*uk\n"
   ]
  },
  {
   "cell_type": "markdown",
   "id": "061dc809",
   "metadata": {},
   "source": [
    "<img src=\"fig_30_a.png\" alt=\"formula\" width=\"900\">"
   ]
  },
  {
   "cell_type": "code",
   "execution_count": 3,
   "id": "9891e4b0",
   "metadata": {},
   "outputs": [
    {
     "data": {
      "text/plain": [
       "<matplotlib.legend.Legend at 0x115618830>"
      ]
     },
     "execution_count": 3,
     "metadata": {},
     "output_type": "execute_result"
    },
    {
     "data": {
      "image/png": "[encoded data removed]",
      "text/plain": [
       "<Figure size 640x480 with 1 Axes>"
      ]
     },
     "metadata": {},
     "output_type": "display_data"
    }
   ],
   "source": [
    "x0 = 0\n",
    "# u0 = 0\n",
    "# uk = 1\n",
    "b = 1\n",
    "k_multi = np.linspace(0, 99, 100)\n",
    "a_multi = np.array([0.9, 0.7, 0.5, 0.2, 0])\n",
    "\n",
    "for a in a_multi:\n",
    "    x_multi = [x0]\n",
    "    for k in k_multi:\n",
    "        xk = x_multi[-1]\n",
    "        x_multi.append(f(a, xk, b, float(bool(k))))\n",
    "    x_multi = np.array(x_multi[:-1])\n",
    "    plt.plot(k_multi, x_multi, label=str(a))\n",
    "plt.legend()"
   ]
  },
  {
   "cell_type": "markdown",
   "id": "7fc9a651",
   "metadata": {},
   "source": [
    "<img src=\"fig_30_b.png\" alt=\"formula\" width=\"900\">"
   ]
  },
  {
   "cell_type": "code",
   "execution_count": 4,
   "id": "023e7082",
   "metadata": {},
   "outputs": [
    {
     "data": {
      "text/latex": [
       "$\\displaystyle \\left[\\begin{matrix}b & 0 & 0 & 0 & 0\\\\a b & b & 0 & 0 & 0\\\\a^{2} b & a b & b & 0 & 0\\\\a^{3} b & a^{2} b & a b & b & 0\\\\a^{4} b & a^{3} b & a^{2} b & a b & b\\end{matrix}\\right]$"
      ],
      "text/plain": [
       "Matrix([\n",
       "[     b,      0,      0,   0, 0],\n",
       "[   a*b,      b,      0,   0, 0],\n",
       "[a**2*b,    a*b,      b,   0, 0],\n",
       "[a**3*b, a**2*b,    a*b,   b, 0],\n",
       "[a**4*b, a**3*b, a**2*b, a*b, b]])"
      ]
     },
     "execution_count": 4,
     "metadata": {},
     "output_type": "execute_result"
    }
   ],
   "source": [
    "vec_len = 4\n",
    "x0 = 0\n",
    "symbol_string = \" \".join([f'u{str(n)}' for n in range(vec_len+1)])\n",
    "u_n = sp.symbols(symbol_string) # make it the same length as x_n\n",
    "symbol_string = \" \".join([f'x{str(n)}' for n in range(1, vec_len+1)])\n",
    "x_n = sp.symbols(symbol_string)\n",
    "a, b = sp.symbols('a b')\n",
    "\n",
    "eqs = []\n",
    "H = []\n",
    "\n",
    "for i in range(vec_len+1):\n",
    "    # update eqs\n",
    "    xk = x0 if not i else x_n[i-1]\n",
    "    uk = u_n[i]\n",
    "    eq = sp.Eq(xk, f(a, (eqs[-1].rhs if i else xk), b, uk))\n",
    "    eqs.append(eq)\n",
    "    # update m\n",
    "    if H:\n",
    "        H = [[*line, 0] for line in H]\n",
    "        H.append([a*el or b for el in H[-1]])\n",
    "    else:\n",
    "        H.append([b])\n",
    "\n",
    "H = sp.Matrix(H)\n",
    "H"
   ]
  },
  {
   "cell_type": "code",
   "execution_count": 5,
   "id": "21f296d7",
   "metadata": {},
   "outputs": [],
   "source": [
    "# convert matricies to same dims\n",
    "X = sp.Matrix(x_n)\n",
    "U = sp.Matrix(u_n[:-1])\n",
    "H = H[:-1, :-1] # type: ignore\n",
    "# now we can write as X=HU"
   ]
  },
  {
   "cell_type": "markdown",
   "id": "8f27a3e7",
   "metadata": {},
   "source": [
    "<img src=\"fig_30_c.png\" alt=\"formula\" width=\"900\">"
   ]
  },
  {
   "cell_type": "code",
   "execution_count": 6,
   "id": "d27e52c7",
   "metadata": {},
   "outputs": [],
   "source": [
    "O_N = H[:, 0] # type: ignore\n",
    "G = sp.Matrix.zeros(*H.shape) # type: ignore\n",
    "for i in range(G.shape[0]):\n",
    "    for j in range(G.shape[1]):\n",
    "        if j>i:\n",
    "            break\n",
    "        G[i, j] = U[i-j]\n",
    "eq_b = sp.Eq(X, H*U)\n",
    "eq_c = sp.Eq(X, G*O_N)\n",
    "assert eq_b == eq_c # these are the same equations"
   ]
  },
  {
   "cell_type": "code",
   "execution_count": 7,
   "id": "f2c1405c",
   "metadata": {},
   "outputs": [
    {
     "data": {
      "text/plain": [
       "[{a: 0.500000000000000, b: 2.00000000000000}]"
      ]
     },
     "execution_count": 7,
     "metadata": {},
     "output_type": "execute_result"
    }
   ],
   "source": [
    "U_c = sp.Matrix([[5], [2], [0], [1]])\n",
    "G_c = sp.Matrix.zeros(*H.shape) # type: ignore\n",
    "for i in range(G.shape[0]):\n",
    "    for j in range(G.shape[1]):\n",
    "        if j>i:\n",
    "            break\n",
    "        G_c[i, j] = U_c[i-j]\n",
    "X_c = sp.Matrix([[10], [9], [4.5], [4.25]])\n",
    "solution = sp.solve(sp.Eq(X_c, G_c*O_N))\n",
    "solution"
   ]
  },
  {
   "cell_type": "markdown",
   "id": "58c8d55e",
   "metadata": {},
   "source": [
    "<img src=\"fig_30_d.png\" alt=\"formula\" width=\"900\">"
   ]
  },
  {
   "cell_type": "code",
   "execution_count": 8,
   "id": "ef39fd67",
   "metadata": {},
   "outputs": [
    {
     "data": {
      "text/latex": [
       "$\\displaystyle \\left[\\begin{matrix}x_{1} + 1.89715056416894\\\\x_{2} - 0.502217846828501\\\\x_{3} - 1.22969938841365\\\\x_{4} + 0.130209681308695\\end{matrix}\\right]$"
      ],
      "text/plain": [
       "Matrix([\n",
       "[ x1 + 1.89715056416894],\n",
       "[x2 - 0.502217846828501],\n",
       "[ x3 - 1.22969938841365],\n",
       "[x4 + 0.130209681308695]])"
      ]
     },
     "execution_count": 8,
     "metadata": {},
     "output_type": "execute_result"
    }
   ],
   "source": [
    "# an example Y\n",
    "E = sp.Matrix(np.random.randn(vec_len).T)\n",
    "Y = X + E\n",
    "Y"
   ]
  },
  {
   "cell_type": "code",
   "execution_count": null,
   "id": "978cce56",
   "metadata": {},
   "outputs": [],
   "source": [
    "def c(theta, y_hat):\n",
    "    theta_len = y_hat.shape[0]\n",
    "    def f(a, b):\n",
    "        return np.array([[a**i * b] for i in range(theta_len)])\n",
    "    diff = f(theta[0], theta[1])\n",
    "    return np.linalg.norm(diff, ord=2)**2*0.5\n",
    "\n",
    "def solve_d(U_d, Y_d, O_true):\n",
    "    G_d = sp.Matrix.zeros(U.shape[0], U.shape[0]) # type: ignore\n",
    "    for i in range(G_d.shape[0]):\n",
    "        for j in range(G_d.shape[1]):\n",
    "            if j>i:\n",
    "                break\n",
    "            G_d[i, j] = U_d[i-j]\n",
    "    best_fit_theta_vector = G_d.pinv_solve(Y_d)\n",
    "    best_fit_theta_vector = np.array(best_fit_theta_vector, dtype=np.float64)\n",
    "    np.array([[a**i * b] for i in range(theta_len)])\n",
    "\n",
    "\n",
    "\n",
    "    best_ab = minimize(c, np.array([1, 1]), args=best_fit_theta_vector, tol=1e-10)\n",
    "    return best_ab.x"
   ]
  },
  {
   "cell_type": "markdown",
   "id": "dd680382",
   "metadata": {},
   "source": [
    "<img src=\"fig_30_e.png\" alt=\"formula\" width=\"900\">"
   ]
  },
  {
   "cell_type": "code",
   "execution_count": 19,
   "id": "dde7f9c6",
   "metadata": {},
   "outputs": [
    {
     "data": {
      "text/plain": [
       "array([ 3.61663285e-01, -7.45057330e-09])"
      ]
     },
     "execution_count": 19,
     "metadata": {},
     "output_type": "execute_result"
    }
   ],
   "source": [
    "U_e = sp.Matrix([[5], [2], [0], [1]])\n",
    "Y_e = sp.Matrix([[10.5], [9.5], [4.51], [4.3]])\n",
    "solve_d(U_e, Y_e, O_N)"
   ]
  },
  {
   "cell_type": "markdown",
   "id": "78d82db5",
   "metadata": {},
   "source": [
    "# CHAT: TODO"
   ]
  },
  {
   "cell_type": "code",
   "execution_count": 11,
   "id": "a62b11b1",
   "metadata": {},
   "outputs": [
    {
     "ename": "NotImplementedError",
     "evalue": "Need chat link",
     "output_type": "error",
     "traceback": [
      "\u001b[31m---------------------------------------------------------------------------\u001b[39m",
      "\u001b[31mNotImplementedError\u001b[39m                       Traceback (most recent call last)",
      "\u001b[36mCell\u001b[39m\u001b[36m \u001b[39m\u001b[32mIn[11]\u001b[39m\u001b[32m, line 1\u001b[39m\n\u001b[32m----> \u001b[39m\u001b[32m1\u001b[39m \u001b[38;5;28;01mraise\u001b[39;00m \u001b[38;5;167;01mNotImplementedError\u001b[39;00m(\u001b[33m\"\u001b[39m\u001b[33mNeed chat link\u001b[39m\u001b[33m\"\u001b[39m)\n",
      "\u001b[31mNotImplementedError\u001b[39m: Need chat link"
     ]
    }
   ],
   "source": [
    "raise NotImplementedError(\"Need chat link\")"
   ]
  },
  {
   "cell_type": "markdown",
   "id": "cf19caf2",
   "metadata": {},
   "source": [
    "# Acknowledgment\n",
    "Work in this repository and with associated assignments and projects may be adapted or copied from similar files used in my prior academic and industry work (e.g., using a LaTeX file or Dockerfile as a starting point). Those files and any other work in this repository may have been developed with the help of LLM's like ChatGPT. For example, to provide context, answer questions, refine writing, understand function call syntax, and assist with repetitive tasks. In these cases, deliverables and associated work reflect my best efforts to optimize my learning and demonstrate my capacity, while using available resources and LLM's to facilitate the process.\n"
   ]
  },
  {
   "cell_type": "markdown",
   "id": "7a9a2f68",
   "metadata": {},
   "source": [
    "[ChatGPT Conversation](https://chatgpt.com)"
   ]
  }
 ],
 "metadata": {
  "kernelspec": {
   "display_name": ".venv",
   "language": "python",
   "name": "python3"
  },
  "language_info": {
   "codemirror_mode": {
    "name": "ipython",
    "version": 3
   },
   "file_extension": ".py",
   "mimetype": "text/x-python",
   "name": "python",
   "nbconvert_exporter": "python",
   "pygments_lexer": "ipython3",
   "version": "3.13.2"
  }
 },
 "nbformat": 4,
 "nbformat_minor": 5
}
