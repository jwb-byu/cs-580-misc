{
 "cells": [
  {
   "cell_type": "markdown",
   "id": "67f42727",
   "metadata": {},
   "source": [
    "# HW 22-23"
   ]
  },
  {
   "cell_type": "markdown",
   "id": "793e6a23",
   "metadata": {},
   "source": [
    "# Imports"
   ]
  },
  {
   "cell_type": "code",
   "execution_count": null,
   "id": "ec367644",
   "metadata": {},
   "outputs": [],
   "source": [
    "# import warnings\n",
    "\n",
    "# import numpy as np\n",
    "# import pandas as pd\n",
    "# import PIL\n",
    "# import scipy\n",
    "# import sympy as sp\n",
    "# from matplotlib import pyplot as plt\n",
    "\n",
    "# warnings.filterwarnings(\"ignore\")"
   ]
  },
  {
   "cell_type": "markdown",
   "id": "1ee658e8",
   "metadata": {},
   "source": [
    "# HW 22"
   ]
  },
  {
   "cell_type": "code",
   "execution_count": null,
   "id": "93430aa5",
   "metadata": {},
   "outputs": [],
   "source": []
  },
  {
   "cell_type": "markdown",
   "id": "a4d4be66",
   "metadata": {},
   "source": [
    "# HW 23"
   ]
  },
  {
   "cell_type": "code",
   "execution_count": null,
   "id": "1a08d0f0",
   "metadata": {},
   "outputs": [],
   "source": []
  },
  {
   "cell_type": "markdown",
   "id": "78d82db5",
   "metadata": {},
   "source": [
    "# CHAT: TODO"
   ]
  },
  {
   "cell_type": "code",
   "execution_count": null,
   "id": "a62b11b1",
   "metadata": {},
   "outputs": [],
   "source": [
    "raise NotImplementedError(\"Need chat link\")"
   ]
  },
  {
   "cell_type": "markdown",
   "id": "cf19caf2",
   "metadata": {},
   "source": [
    "# Acknowledgment\n",
    "Work in this repository and with associated assignments and projects may be adapted or copied from similar files used in my prior academic and industry work (e.g., using a LaTeX file or Dockerfile as a starting point). Those files and any other work in this repository may have been developed with the help of LLM's like ChatGPT. For example, to provide context, answer questions, refine writing, understand function call syntax, and assist with repetitive tasks. In these cases, deliverables and associated work reflect my best efforts to optimize my learning and demonstrate my capacity, while using available resources and LLM's to facilitate the process.\n"
   ]
  },
  {
   "cell_type": "markdown",
   "id": "7a9a2f68",
   "metadata": {},
   "source": [
    "[ChatGPT Conversation](https://chatgpt.com)"
   ]
  }
 ],
 "metadata": {
  "kernelspec": {
   "display_name": ".venv",
   "language": "python",
   "name": "python3"
  },
  "language_info": {
   "codemirror_mode": {
    "name": "ipython",
    "version": 3
   },
   "file_extension": ".py",
   "mimetype": "text/x-python",
   "name": "python",
   "nbconvert_exporter": "python",
   "pygments_lexer": "ipython3",
   "version": "3.13.2"
  }
 },
 "nbformat": 4,
 "nbformat_minor": 5
}
