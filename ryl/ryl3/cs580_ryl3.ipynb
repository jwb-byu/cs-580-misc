{
 "cells": [
  {
   "cell_type": "markdown",
   "id": "09b76058",
   "metadata": {},
   "source": [
    "# CS 580 RYL 3"
   ]
  },
  {
   "cell_type": "code",
   "execution_count": null,
   "id": "7c76f614",
   "metadata": {},
   "outputs": [],
   "source": [
    "# dependencies\n",
    "import numpy as np\n",
    "import pandas as pd\n",
    "from matplotlib import pyplot as plt\n",
    "# import sympy as sp\n",
    "import scipy\n",
    "# from PIL import Image\n",
    "\n",
    "# Zac noted in recitation that we could use official package documentation \n",
    "# on the RYL's moving forward'. I did that for this assignment."
   ]
  },
  {
   "cell_type": "code",
   "execution_count": null,
   "id": "1d6ac59c",
   "metadata": {},
   "outputs": [],
   "source": [
    "# setup\n",
    "# The file babyboomerdivorce.csv contains\n",
    "# data on the rate of baby-boomer divorce.\n",
    "# The independent variables are marriage age (x) and years of school (y).\n",
    "\n",
    "df = pd.read_csv(\"./babyboomerdivorce.csv\")\n",
    "x = df.age_at_marriage.values\n",
    "y = df.years_of_education.values\n",
    "z = df.divorce_rate_per_100.values"
   ]
  },
  {
   "cell_type": "code",
   "execution_count": 3,
   "id": "012712c8",
   "metadata": {},
   "outputs": [
    {
     "data": {
      "text/plain": [
       "<matplotlib.collections.PathCollection at 0x1140265d0>"
      ]
     },
     "execution_count": 3,
     "metadata": {},
     "output_type": "execute_result"
    },
    {
     "data": {
      "image/png": "[encoded data removed]",
      "text/plain": [
       "<Figure size 640x480 with 1 Axes>"
      ]
     },
     "metadata": {},
     "output_type": "display_data"
    }
   ],
   "source": [
    "# visualize\n",
    "plt.scatter(x, z, color=\"r\")\n",
    "plt.scatter(y, z, color=\"b\")"
   ]
  },
  {
   "cell_type": "code",
   "execution_count": 4,
   "id": "16d7ebad",
   "metadata": {},
   "outputs": [],
   "source": [
    "# A\n",
    "# (a) Formulate regression problems for the following models:\n",
    "# z(x,y) = θ00 + θ10x+ θ01y\n",
    "# z(x,y) = θ00 + θ10x+ θ01y+ θ11xy\n",
    "# z(x,y) = θ00 + θ10x+ θ01y+ θ11xy+ θ20x2 + θ02y2\n",
    "\n",
    "ones = np.ones(df.shape[0])\n",
    "A1 = np.array([ones, x, y]).T\n",
    "A2 = np.array([ones, x, y, x * y]).T\n",
    "A3 = np.array([ones, x, y, x * y, x**2, y**2]).T"
   ]
  },
  {
   "cell_type": "code",
   "execution_count": 5,
   "id": "4d34ceb6",
   "metadata": {},
   "outputs": [
    {
     "name": "stdout",
     "output_type": "stream",
     "text": [
      "--------------------------------------------------------------------\n",
      "the model for z(x,y) = θ00 + θ10x+ θ01y gives theta_hat:\n",
      "[122.18308858  -1.88084719  -1.94914286]\n",
      "SSE is [387.28474669]\n",
      "--------------------------------------------------------------------\n",
      "the model for z(x,y) = θ00 + θ10x+ θ01y+ θ11xy gives theta_hat:\n",
      "[ 1.67870700e+02 -3.34051530e+00 -5.10001262e+00  1.00666766e-01]\n",
      "SSE is [250.80275913]\n",
      "--------------------------------------------------------------------\n",
      "the model for θ00 + θ10x+ θ01y+ θ11xy+ θ20x2 + θ02y2 gives theta_hat:\n",
      "[ 1.14478739e+02 -2.17977168e+00 -3.05970381e-02  1.00666766e-01\n",
      " -1.87273229e-02 -1.67386364e-01]\n",
      "SSE is [191.97966108]\n",
      "--------------------------------------------------------------------\n"
     ]
    }
   ],
   "source": [
    "# B\n",
    "# (b) Solve each regression and report best-fit parameters and uncertainties.\n",
    "theta_hat_1, sse1, rank, s = np.linalg.lstsq(A1, z)\n",
    "theta_hat_2, sse2, rank, s = np.linalg.lstsq(A2, z)\n",
    "theta_hat_3, sse3, rank, s = np.linalg.lstsq(A3, z)\n",
    "\n",
    "print(\"--------------------------------------------------------------------\")\n",
    "print(f\"the model for z(x,y) = θ00 + θ10x+ θ01y gives theta_hat:\\n{theta_hat_1}\")\n",
    "print(f\"SSE is {sse1}\")\n",
    "print(\"--------------------------------------------------------------------\")\n",
    "print(f\"the model for z(x,y) = θ00 + θ10x+ θ01y+ θ11xy gives theta_hat:\\n{theta_hat_2}\")\n",
    "print(f\"SSE is {sse2}\")\n",
    "print(\"--------------------------------------------------------------------\")\n",
    "print(f\"the model for θ00 + θ10x+ θ01y+ θ11xy+ θ20x2 + θ02y2 gives theta_hat:\\n{theta_hat_3}\")\n",
    "print(f\"SSE is {sse3}\")\n",
    "print(\"--------------------------------------------------------------------\")"
   ]
  },
  {
   "cell_type": "code",
   "execution_count": 6,
   "id": "6d6d73ff",
   "metadata": {},
   "outputs": [
    {
     "name": "stdout",
     "output_type": "stream",
     "text": [
      "--------------------------------------------------------------------\n",
      "leave-one-out cross validation for z(x,y) = θ00 + θ10x+ θ01y\n",
      "cross validation error: 2698.0644755999683\n",
      "--------------------------------------------------------------------\n",
      "--------------------------------------------------------------------\n",
      "leave-one-out cross validation for z(x,y) = θ00 + θ10x+ θ01y+ θ11xy\n",
      "cross validation error: 1647.6357933662268\n",
      "--------------------------------------------------------------------\n",
      "--------------------------------------------------------------------\n",
      "leave-one-out cross validation for θ00 + θ10x+ θ01y+ θ11xy+ θ20x2 + θ02y2\n",
      "cross validation error: 1120.1853500339723\n",
      "--------------------------------------------------------------------\n"
     ]
    }
   ],
   "source": [
    "# C\n",
    "# (c) Compute leave-one-out cross validation error for each model and compare.\n",
    "name1 = \"z(x,y) = θ00 + θ10x+ θ01y\" # cross validation error: 2698.0644755999683\n",
    "name2 = \"z(x,y) = θ00 + θ10x+ θ01y+ θ11xy\" # cross validation error: 1647.6357933662268\n",
    "name3 = \"θ00 + θ10x+ θ01y+ θ11xy+ θ20x2 + θ02y2\" # cross validation error: 1120.1853500339723\n",
    "\n",
    "for nm, AA in [(name1, A1), (name2, A2), (name3, A3)]:\n",
    "    print(\"--------------------------------------------------------------------\")\n",
    "    print(f\"leave-one-out cross validation for {nm}\")\n",
    "    errs = []\n",
    "    for i in range(AA.shape[0]):\n",
    "        tmp_a = np.concatenate([AA[:i], AA[i+1:]])\n",
    "        left_out_a = AA[i]\n",
    "        tmp_z = np.concatenate([z[:i], z[i+1:]])\n",
    "        left_out_z = z[i]\n",
    "        theta_hat_tmp, _, _, _ = np.linalg.lstsq(AA, z)\n",
    "        err = np.linalg.norm((tmp_z-np.matmul(tmp_a, theta_hat_tmp))**2, ord=2)\n",
    "        errs.append(err)\n",
    "    tot_err = sum(errs)\n",
    "    print(f\"cross validation error: {tot_err}\")\n",
    "    print(\"--------------------------------------------------------------------\")\n",
    "\n",
    "# Comparison: \n",
    "# Here we find that the larger-dimensional bases give improved error in cross-validation.\n",
    "# This suggests that these models with more parameters generalize better.\n"
   ]
  },
  {
   "cell_type": "code",
   "execution_count": null,
   "id": "73a1e66e",
   "metadata": {},
   "outputs": [
    {
     "name": "stdout",
     "output_type": "stream",
     "text": [
      "My solution is [126.13757252  -1.77509354  -2.37689689]\n"
     ]
    }
   ],
   "source": [
    "# D\n",
    "# (d) Solve the model z(x,y) = θ00 + θ10x+ θ01y using the 1-norm. Report parameters.\n",
    "\n",
    "# up to now we have been solving for theta with least squares:\n",
    "theta_hat_eg = ((A1.T@A1)**-1)@A1.T@z\n",
    "# because the above is not numerically stable, we solve with numpy:\n",
    "theta_hat_eg, _, _, _ = np.linalg.lstsq(A1, z)\n",
    "\n",
    "# however, the expression `((A1.T@A1)**-1)@A1.T@z` is derived using the L-2 norm.\n",
    "# If we want a solution based on a different norm, we need a different strategy\n",
    "# z(x,y) = θ00 + θ10x+ θ01y is linear, so I think a closed-form expression could\n",
    "# be derived using matrix calculus as with the least-squares solution\n",
    "# I tried to work this out by hand, but couldn't find the solution.\n",
    "# I can also find the value algorithmically as follows.\n",
    "# this will not be absolutely precise, but will achieve a practical level of certainty.\n",
    "\n",
    "def normed_err_from_thetas(thet):\n",
    "    \"\"\" objective function to minimize \"\"\"\n",
    "    z_est = np.matmul(A1, thet)\n",
    "    e_vec = z-z_est\n",
    "    normed_e = np.linalg.norm(e_vec, ord=1)\n",
    "    return normed_e\n",
    "\n",
    "# use theta_hat_1 as the initial value for scipy's optimization algorithm\n",
    "norm1_theta_hat_1 = scipy.optimize.minimize(normed_err_from_thetas, theta_hat_1).x\n",
    "\n",
    "print(f\"My solution is {norm1_theta_hat_1}\")\n",
    "\n"
   ]
  }
 ],
 "metadata": {
  "kernelspec": {
   "display_name": ".venv",
   "language": "python",
   "name": "python3"
  },
  "language_info": {
   "codemirror_mode": {
    "name": "ipython",
    "version": 3
   },
   "file_extension": ".py",
   "mimetype": "text/x-python",
   "name": "python",
   "nbconvert_exporter": "python",
   "pygments_lexer": "ipython3",
   "version": "3.13.2"
  }
 },
 "nbformat": 4,
 "nbformat_minor": 5
}
